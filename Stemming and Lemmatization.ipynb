{
 "cells": [
  {
   "cell_type": "markdown",
   "id": "1d4f73e5-b29f-4126-8be3-29d912276fc5",
   "metadata": {},
   "source": [
    "**Stemming in NLTK**"
   ]
  },
  {
   "cell_type": "code",
   "execution_count": 1,
   "id": "abf482b8-1ce3-42f4-b1d7-61684d28bf64",
   "metadata": {},
   "outputs": [],
   "source": [
    "import spacy\n",
    "import nltk"
   ]
  },
  {
   "cell_type": "code",
   "execution_count": 2,
   "id": "e48ed3f2-996b-49ac-942f-3320a207c2d8",
   "metadata": {},
   "outputs": [],
   "source": [
    "from nltk.stem import PorterStemmer\n",
    "\n",
    "stemmer = PorterStemmer()"
   ]
  },
  {
   "cell_type": "code",
   "execution_count": 3,
   "id": "90e90883-b1e9-48d8-a939-c0b7419ab165",
   "metadata": {},
   "outputs": [
    {
     "name": "stdout",
     "output_type": "stream",
     "text": [
      "eating | eat\n",
      "eats | eat\n",
      "eat | eat\n",
      "ate | ate\n",
      "adjustable | adjust\n",
      "rafting | raft\n",
      "ability | abil\n",
      "meeting | meet\n"
     ]
    }
   ],
   "source": [
    "words = [\"eating\", \"eats\", \"eat\", \"ate\", \"adjustable\", \"rafting\", \"ability\", \"meeting\"]\n",
    "\n",
    "for word in words:\n",
    "    print(word, \"|\", stemmer.stem(word))"
   ]
  },
  {
   "cell_type": "markdown",
   "id": "e22e55bc-5209-4b2f-a929-1af4cb8a1c48",
   "metadata": {},
   "source": [
    "**Lemmatization in Spacy**"
   ]
  },
  {
   "cell_type": "code",
   "execution_count": 4,
   "id": "b6f7e42e-4946-47a9-9762-47b48bc7f8a3",
   "metadata": {},
   "outputs": [
    {
     "name": "stdout",
     "output_type": "stream",
     "text": [
      "eating | eat\n",
      "eats | eat\n",
      "eat | eat\n",
      "ate | eat\n",
      "adjustable | adjustable\n",
      "rafting | raft\n",
      "ability | ability\n",
      "meeting | meeting\n",
      "better | well\n"
     ]
    }
   ],
   "source": [
    "nlp = spacy.load(\"en_core_web_sm\")\n",
    "\n",
    "doc = nlp(\"eating eats eat ate adjustable rafting ability meeting better\")\n",
    "\n",
    "for word in doc:\n",
    "    print(word, \"|\", word.lemma_)"
   ]
  },
  {
   "cell_type": "code",
   "execution_count": 15,
   "id": "d3b3c9b6-399b-46da-871e-66b94570c0d1",
   "metadata": {},
   "outputs": [
    {
     "name": "stdout",
     "output_type": "stream",
     "text": [
      "Mando | Mando | 7837215228004622142\n",
      "talked | talk | 13939146775466599234\n",
      "for | for | 16037325823156266367\n",
      "3 | 3 | 602994839685422785\n",
      "hours | hour | 9748623380567160636\n",
      "although | although | 343236316598008647\n",
      "talking | talk | 13939146775466599234\n",
      "is | be | 10382539506755952630\n",
      "n't | not | 447765159362469301\n",
      "his | his | 2661093235354845946\n",
      "thing | thing | 2473243759842082748\n"
     ]
    }
   ],
   "source": [
    "nlp = spacy.load(\"en_core_web_sm\")\n",
    "\n",
    "doc = nlp(\"Mando talked for 3 hours although talking isn't his thing\")\n",
    "\n",
    "for word in doc:\n",
    "    print(word, \"|\", word.lemma_, \"|\", word.lemma)"
   ]
  },
  {
   "cell_type": "markdown",
   "id": "dea271a2-ec8b-492a-ac19-00161c476d79",
   "metadata": {},
   "source": [
    "**Customizing Lemmatizer**"
   ]
  },
  {
   "cell_type": "code",
   "execution_count": 16,
   "id": "d3d30603-0f88-4b37-8421-307b15dbf0cc",
   "metadata": {},
   "outputs": [
    {
     "name": "stdout",
     "output_type": "stream",
     "text": [
      "Bro | bro\n",
      ", | ,\n",
      "you | you\n",
      "wanna | wanna\n",
      "go | go\n",
      "? | ?\n",
      "Brah | Brah\n",
      ", | ,\n",
      "do | do\n",
      "n't | not\n",
      "say | say\n",
      "no | no\n",
      "! | !\n",
      "I | I\n",
      "am | be\n",
      "exhausted | exhaust\n"
     ]
    }
   ],
   "source": [
    "doc = nlp(\"Bro, you wanna go? Brah, don't say no! I am exhausted\")\n",
    "for token in doc:\n",
    "    print(token.text, \"|\", token.lemma_)"
   ]
  },
  {
   "cell_type": "markdown",
   "id": "580189c4-81cd-4fb5-a4be-ba83099eba55",
   "metadata": {},
   "source": [
    "Here bro is bro and brah is brah but acutally it is brother so we can customize it"
   ]
  },
  {
   "cell_type": "code",
   "execution_count": 17,
   "id": "51a09234-3ce3-436e-b58b-2fbc9c3057de",
   "metadata": {},
   "outputs": [
    {
     "name": "stdout",
     "output_type": "stream",
     "text": [
      "Bro | Brother\n",
      ", | ,\n",
      "you | you\n",
      "wanna | wanna\n",
      "go | go\n",
      "? | ?\n",
      "Brah | Brother\n",
      ", | ,\n",
      "do | do\n",
      "n't | not\n",
      "say | say\n",
      "no | no\n",
      "! | !\n",
      "I | I\n",
      "am | be\n",
      "exhausted | exhaust\n"
     ]
    }
   ],
   "source": [
    "ar = nlp.get_pipe('attribute_ruler')\n",
    "\n",
    "ar.add([[{\"TEXT\":\"Bro\"}],[{\"TEXT\":\"Brah\"}]],{\"LEMMA\":\"Brother\"})\n",
    "\n",
    "doc = nlp(\"Bro, you wanna go? Brah, don't say no! I am exhausted\")\n",
    "for token in doc:\n",
    "    print(token.text, \"|\", token.lemma_)"
   ]
  },
  {
   "cell_type": "code",
   "execution_count": 20,
   "id": "89ef8a0c-2d4a-4f21-ba5f-a189995d9695",
   "metadata": {},
   "outputs": [
    {
     "name": "stdout",
     "output_type": "stream",
     "text": [
      "Bro | Brother\n",
      ", | ,\n",
      "you | you\n",
      "wanna | want\n",
      "go | go\n",
      "? | ?\n",
      "Brah | Brother\n",
      ", | ,\n",
      "do | do\n",
      "n't | not\n",
      "say | say\n",
      "no | no\n",
      "! | !\n",
      "I | I\n",
      "am | be\n",
      "exhausted | exhaust\n"
     ]
    }
   ],
   "source": [
    "import spacy\n",
    "\n",
    "# Load the spaCy model\n",
    "nlp = spacy.load(\"en_core_web_sm\")\n",
    "\n",
    "# Get the attribute ruler component\n",
    "ar = nlp.get_pipe('attribute_ruler')\n",
    "\n",
    "# Define patterns and attributes\n",
    "patterns = [[{\"TEXT\": \"Bro\"}], [{\"TEXT\": \"Brah\"}], [{\"TEXT\": \"wanna\"}]]\n",
    "attrs = [{\"LEMMA\": \"Brother\"}, {\"LEMMA\": \"Brother\"}, {\"LEMMA\": \"want\"}]\n",
    "\n",
    "# Add custom rules to the attribute ruler\n",
    "for pattern, attr in zip(patterns, attrs):\n",
    "    ar.add(patterns=[pattern], attrs=attr)\n",
    "\n",
    "# Process a text with the custom rules\n",
    "doc = nlp(\"Bro, you wanna go? Brah, don't say no! I am exhausted\")\n",
    "\n",
    "# Print the tokens and their lemmas\n",
    "for token in doc:\n",
    "    print(token.text, \"|\", token.lemma_)\n"
   ]
  },
  {
   "cell_type": "code",
   "execution_count": null,
   "id": "7d092d1d-c506-4f78-9da2-e8dd49f1eb66",
   "metadata": {},
   "outputs": [],
   "source": []
  }
 ],
 "metadata": {
  "kernelspec": {
   "display_name": "Python 3 (ipykernel)",
   "language": "python",
   "name": "python3"
  },
  "language_info": {
   "codemirror_mode": {
    "name": "ipython",
    "version": 3
   },
   "file_extension": ".py",
   "mimetype": "text/x-python",
   "name": "python",
   "nbconvert_exporter": "python",
   "pygments_lexer": "ipython3",
   "version": "3.11.7"
  }
 },
 "nbformat": 4,
 "nbformat_minor": 5
}
