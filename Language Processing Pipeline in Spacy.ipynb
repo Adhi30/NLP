{
 "cells": [
  {
   "cell_type": "code",
   "execution_count": 2,
   "id": "efdb7b49-8b41-4b23-a6b7-45b561e9112c",
   "metadata": {},
   "outputs": [
    {
     "name": "stdout",
     "output_type": "stream",
     "text": [
      "Captain\n",
      "america\n",
      "ate\n",
      "100\n",
      "$\n",
      "of\n",
      "samosa\n",
      ".\n",
      "Then\n",
      "he\n",
      "said\n",
      "I\n",
      "can\n",
      "do\n",
      "this\n",
      "all\n",
      "day\n",
      ".\n"
     ]
    }
   ],
   "source": [
    "import spacy\n",
    "nlp = spacy.blank(\"en\")\n",
    "\n",
    "doc = nlp(\"Captain america ate 100$ of samosa. Then he said I can do this all day.\")\n",
    "\n",
    "for token in doc:\n",
    "    print(token)"
   ]
  },
  {
   "cell_type": "code",
   "execution_count": 3,
   "id": "d50d8f71-4c48-466c-b998-268b44ff40e9",
   "metadata": {},
   "outputs": [
    {
     "data": {
      "text/plain": [
       "[]"
      ]
     },
     "execution_count": 3,
     "metadata": {},
     "output_type": "execute_result"
    }
   ],
   "source": [
    "nlp.pipe_names"
   ]
  },
  {
   "cell_type": "markdown",
   "id": "159e9170-dcdd-44d6-929a-32a5868e4a66",
   "metadata": {},
   "source": [
    "nlp.pipe_names is empty array indicating no components in the pipeline. Pipeline is something that starts with a tokenizer"
   ]
  },
  {
   "cell_type": "code",
   "execution_count": 5,
   "id": "1b46f6a8-cd26-4114-9cbc-1b0f7ca8fe19",
   "metadata": {},
   "outputs": [
    {
     "name": "stdout",
     "output_type": "stream",
     "text": [
      "Collecting en-core-web-sm==3.7.1\n",
      "  Downloading https://github.com/explosion/spacy-models/releases/download/en_core_web_sm-3.7.1/en_core_web_sm-3.7.1-py3-none-any.whl (12.8 MB)\n",
      "     ---------------------------------------- 0.0/12.8 MB ? eta -:--:--\n",
      "     ---------------------------------------- 0.0/12.8 MB ? eta -:--:--\n",
      "     --------------------------------------- 0.1/12.8 MB 656.4 kB/s eta 0:00:20\n",
      "     --------------------------------------- 0.1/12.8 MB 656.4 kB/s eta 0:00:20\n",
      "     --------------------------------------- 0.1/12.8 MB 393.8 kB/s eta 0:00:33\n",
      "     --------------------------------------- 0.1/12.8 MB 350.1 kB/s eta 0:00:37\n",
      "     --------------------------------------- 0.1/12.8 MB 437.6 kB/s eta 0:00:30\n",
      "     --------------------------------------- 0.1/12.8 MB 426.7 kB/s eta 0:00:30\n",
      "     --------------------------------------- 0.2/12.8 MB 399.3 kB/s eta 0:00:32\n",
      "      -------------------------------------- 0.2/12.8 MB 454.0 kB/s eta 0:00:28\n",
      "      -------------------------------------- 0.2/12.8 MB 445.2 kB/s eta 0:00:29\n",
      "      -------------------------------------- 0.3/12.8 MB 477.2 kB/s eta 0:00:27\n",
      "      -------------------------------------- 0.3/12.8 MB 492.0 kB/s eta 0:00:26\n",
      "      -------------------------------------- 0.3/12.8 MB 513.8 kB/s eta 0:00:25\n",
      "      -------------------------------------- 0.3/12.8 MB 491.5 kB/s eta 0:00:26\n",
      "     - ------------------------------------- 0.4/12.8 MB 509.8 kB/s eta 0:00:25\n",
      "     - ------------------------------------- 0.4/12.8 MB 518.8 kB/s eta 0:00:24\n",
      "     - ------------------------------------- 0.4/12.8 MB 501.1 kB/s eta 0:00:25\n",
      "     - ------------------------------------- 0.4/12.8 MB 507.1 kB/s eta 0:00:25\n",
      "     - ------------------------------------- 0.4/12.8 MB 507.1 kB/s eta 0:00:25\n",
      "     - ------------------------------------- 0.5/12.8 MB 469.9 kB/s eta 0:00:27\n",
      "     - ------------------------------------- 0.5/12.8 MB 457.9 kB/s eta 0:00:27\n",
      "     - ------------------------------------- 0.5/12.8 MB 457.9 kB/s eta 0:00:27\n",
      "     - ------------------------------------- 0.5/12.8 MB 465.5 kB/s eta 0:00:27\n",
      "     - ------------------------------------- 0.5/12.8 MB 470.9 kB/s eta 0:00:27\n",
      "     - ------------------------------------- 0.5/12.8 MB 460.6 kB/s eta 0:00:27\n",
      "     - ------------------------------------- 0.6/12.8 MB 485.2 kB/s eta 0:00:26\n",
      "     - ------------------------------------- 0.6/12.8 MB 497.9 kB/s eta 0:00:25\n",
      "     -- ------------------------------------ 0.7/12.8 MB 519.6 kB/s eta 0:00:24\n",
      "     -- ------------------------------------ 0.7/12.8 MB 539.8 kB/s eta 0:00:23\n",
      "     -- ------------------------------------ 0.8/12.8 MB 550.1 kB/s eta 0:00:22\n",
      "     -- ------------------------------------ 0.8/12.8 MB 559.9 kB/s eta 0:00:22\n",
      "     -- ------------------------------------ 0.8/12.8 MB 570.8 kB/s eta 0:00:21\n",
      "     -- ------------------------------------ 0.8/12.8 MB 570.8 kB/s eta 0:00:21\n",
      "     -- ------------------------------------ 0.9/12.8 MB 567.8 kB/s eta 0:00:22\n",
      "     -- ------------------------------------ 0.9/12.8 MB 570.3 kB/s eta 0:00:21\n",
      "     -- ------------------------------------ 0.9/12.8 MB 571.7 kB/s eta 0:00:21\n",
      "     -- ------------------------------------ 1.0/12.8 MB 574.4 kB/s eta 0:00:21\n",
      "     --- ----------------------------------- 1.0/12.8 MB 582.7 kB/s eta 0:00:21\n",
      "     --- ----------------------------------- 1.0/12.8 MB 582.7 kB/s eta 0:00:21\n",
      "     --- ----------------------------------- 1.1/12.8 MB 592.2 kB/s eta 0:00:20\n",
      "     --- ----------------------------------- 1.1/12.8 MB 599.0 kB/s eta 0:00:20\n",
      "     --- ----------------------------------- 1.1/12.8 MB 611.4 kB/s eta 0:00:20\n",
      "     --- ----------------------------------- 1.2/12.8 MB 616.9 kB/s eta 0:00:19\n",
      "     --- ----------------------------------- 1.2/12.8 MB 618.5 kB/s eta 0:00:19\n",
      "     --- ----------------------------------- 1.2/12.8 MB 618.9 kB/s eta 0:00:19\n",
      "     --- ----------------------------------- 1.3/12.8 MB 635.2 kB/s eta 0:00:19\n",
      "     ---- ---------------------------------- 1.3/12.8 MB 645.6 kB/s eta 0:00:18\n",
      "     ---- ---------------------------------- 1.4/12.8 MB 660.3 kB/s eta 0:00:18\n",
      "     ---- ---------------------------------- 1.4/12.8 MB 655.3 kB/s eta 0:00:18\n",
      "     ---- ---------------------------------- 1.5/12.8 MB 664.8 kB/s eta 0:00:18\n",
      "     ---- ---------------------------------- 1.5/12.8 MB 664.6 kB/s eta 0:00:18\n",
      "     ---- ---------------------------------- 1.5/12.8 MB 673.4 kB/s eta 0:00:17\n",
      "     ---- ---------------------------------- 1.5/12.8 MB 673.4 kB/s eta 0:00:17\n",
      "     ---- ---------------------------------- 1.6/12.8 MB 676.9 kB/s eta 0:00:17\n",
      "     ---- ---------------------------------- 1.6/12.8 MB 676.7 kB/s eta 0:00:17\n",
      "     ----- --------------------------------- 1.7/12.8 MB 688.8 kB/s eta 0:00:17\n",
      "     ----- --------------------------------- 1.7/12.8 MB 684.0 kB/s eta 0:00:17\n",
      "     ----- --------------------------------- 1.7/12.8 MB 684.0 kB/s eta 0:00:17\n",
      "     ----- --------------------------------- 1.8/12.8 MB 687.2 kB/s eta 0:00:17\n",
      "     ----- --------------------------------- 1.8/12.8 MB 694.7 kB/s eta 0:00:16\n",
      "     ----- --------------------------------- 1.9/12.8 MB 702.1 kB/s eta 0:00:16\n",
      "     ----- --------------------------------- 1.9/12.8 MB 716.5 kB/s eta 0:00:16\n",
      "     ------ -------------------------------- 2.0/12.8 MB 718.7 kB/s eta 0:00:16\n",
      "     ------ -------------------------------- 2.0/12.8 MB 724.7 kB/s eta 0:00:15\n",
      "     ------ -------------------------------- 2.1/12.8 MB 727.8 kB/s eta 0:00:15\n",
      "     ------ -------------------------------- 2.1/12.8 MB 733.5 kB/s eta 0:00:15\n",
      "     ------ -------------------------------- 2.2/12.8 MB 732.2 kB/s eta 0:00:15\n",
      "     ------ -------------------------------- 2.2/12.8 MB 732.2 kB/s eta 0:00:15\n",
      "     ------ -------------------------------- 2.2/12.8 MB 712.5 kB/s eta 0:00:15\n",
      "     ------ -------------------------------- 2.2/12.8 MB 725.2 kB/s eta 0:00:15\n",
      "     ------ -------------------------------- 2.3/12.8 MB 724.8 kB/s eta 0:00:15\n",
      "     ------ -------------------------------- 2.3/12.8 MB 724.2 kB/s eta 0:00:15\n",
      "     ------- ------------------------------- 2.3/12.8 MB 725.7 kB/s eta 0:00:15\n",
      "     ------- ------------------------------- 2.4/12.8 MB 734.6 kB/s eta 0:00:15\n",
      "     ------- ------------------------------- 2.4/12.8 MB 740.4 kB/s eta 0:00:15\n",
      "     ------- ------------------------------- 2.5/12.8 MB 748.2 kB/s eta 0:00:14\n",
      "     ------- ------------------------------- 2.5/12.8 MB 756.4 kB/s eta 0:00:14\n",
      "     ------- ------------------------------- 2.6/12.8 MB 764.2 kB/s eta 0:00:14\n",
      "     -------- ------------------------------ 2.7/12.8 MB 771.6 kB/s eta 0:00:14\n",
      "     -------- ------------------------------ 2.7/12.8 MB 781.8 kB/s eta 0:00:13\n",
      "     -------- ------------------------------ 2.7/12.8 MB 777.8 kB/s eta 0:00:13\n",
      "     -------- ------------------------------ 2.8/12.8 MB 787.0 kB/s eta 0:00:13\n",
      "     -------- ------------------------------ 2.9/12.8 MB 785.3 kB/s eta 0:00:13\n",
      "     -------- ------------------------------ 2.9/12.8 MB 792.0 kB/s eta 0:00:13\n",
      "     -------- ------------------------------ 2.9/12.8 MB 790.9 kB/s eta 0:00:13\n",
      "     -------- ------------------------------ 2.9/12.8 MB 790.9 kB/s eta 0:00:13\n",
      "     --------- ----------------------------- 3.0/12.8 MB 784.4 kB/s eta 0:00:13\n",
      "     --------- ----------------------------- 3.1/12.8 MB 788.1 kB/s eta 0:00:13\n",
      "     --------- ----------------------------- 3.1/12.8 MB 791.1 kB/s eta 0:00:13\n",
      "     --------- ----------------------------- 3.2/12.8 MB 800.4 kB/s eta 0:00:13\n",
      "     --------- ----------------------------- 3.3/12.8 MB 808.5 kB/s eta 0:00:12\n",
      "     ---------- ---------------------------- 3.3/12.8 MB 809.2 kB/s eta 0:00:12\n",
      "     ---------- ---------------------------- 3.3/12.8 MB 808.6 kB/s eta 0:00:12\n",
      "     ---------- ---------------------------- 3.4/12.8 MB 815.6 kB/s eta 0:00:12\n",
      "     ---------- ---------------------------- 3.4/12.8 MB 817.3 kB/s eta 0:00:12\n",
      "     ---------- ---------------------------- 3.4/12.8 MB 816.9 kB/s eta 0:00:12\n",
      "     ---------- ---------------------------- 3.5/12.8 MB 824.0 kB/s eta 0:00:12\n",
      "     ---------- ---------------------------- 3.6/12.8 MB 824.5 kB/s eta 0:00:12\n",
      "     ----------- --------------------------- 3.6/12.8 MB 829.3 kB/s eta 0:00:12\n",
      "     ----------- --------------------------- 3.7/12.8 MB 839.0 kB/s eta 0:00:11\n",
      "     ----------- --------------------------- 3.8/12.8 MB 845.5 kB/s eta 0:00:11\n",
      "     ----------- --------------------------- 3.8/12.8 MB 846.0 kB/s eta 0:00:11\n",
      "     ----------- --------------------------- 3.9/12.8 MB 851.3 kB/s eta 0:00:11\n",
      "     ------------ -------------------------- 4.0/12.8 MB 862.0 kB/s eta 0:00:11\n",
      "     ------------ -------------------------- 4.1/12.8 MB 870.9 kB/s eta 0:00:11\n",
      "     ------------ -------------------------- 4.1/12.8 MB 877.5 kB/s eta 0:00:10\n",
      "     ------------ -------------------------- 4.2/12.8 MB 883.2 kB/s eta 0:00:10\n",
      "     ------------- ------------------------- 4.3/12.8 MB 891.6 kB/s eta 0:00:10\n",
      "     ------------- ------------------------- 4.4/12.8 MB 893.5 kB/s eta 0:00:10\n",
      "     ------------- ------------------------- 4.4/12.8 MB 898.4 kB/s eta 0:00:10\n",
      "     ------------- ------------------------- 4.4/12.8 MB 889.0 kB/s eta 0:00:10\n",
      "     ------------- ------------------------- 4.5/12.8 MB 890.9 kB/s eta 0:00:10\n",
      "     ------------- ------------------------- 4.5/12.8 MB 898.4 kB/s eta 0:00:10\n",
      "     -------------- ------------------------ 4.6/12.8 MB 902.6 kB/s eta 0:00:10\n",
      "     -------------- ------------------------ 4.7/12.8 MB 913.1 kB/s eta 0:00:09\n",
      "     -------------- ------------------------ 4.8/12.8 MB 918.7 kB/s eta 0:00:09\n",
      "     -------------- ------------------------ 4.8/12.8 MB 920.2 kB/s eta 0:00:09\n",
      "     -------------- ------------------------ 4.8/12.8 MB 923.4 kB/s eta 0:00:09\n",
      "     -------------- ------------------------ 4.9/12.8 MB 918.3 kB/s eta 0:00:09\n",
      "     --------------- ----------------------- 4.9/12.8 MB 919.8 kB/s eta 0:00:09\n",
      "     --------------- ----------------------- 5.0/12.8 MB 922.9 kB/s eta 0:00:09\n",
      "     --------------- ----------------------- 5.0/12.8 MB 923.5 kB/s eta 0:00:09\n",
      "     --------------- ----------------------- 5.1/12.8 MB 928.5 kB/s eta 0:00:09\n",
      "     --------------- ----------------------- 5.1/12.8 MB 925.3 kB/s eta 0:00:09\n",
      "     --------------- ----------------------- 5.2/12.8 MB 929.4 kB/s eta 0:00:09\n",
      "     --------------- ----------------------- 5.2/12.8 MB 924.4 kB/s eta 0:00:09\n",
      "     ---------------- ---------------------- 5.3/12.8 MB 933.2 kB/s eta 0:00:09\n",
      "     ---------------- ---------------------- 5.3/12.8 MB 929.1 kB/s eta 0:00:09\n",
      "     ---------------- ---------------------- 5.4/12.8 MB 932.2 kB/s eta 0:00:08\n",
      "     ---------------- ---------------------- 5.4/12.8 MB 941.4 kB/s eta 0:00:08\n",
      "     ---------------- ---------------------- 5.5/12.8 MB 942.6 kB/s eta 0:00:08\n",
      "     ---------------- ---------------------- 5.5/12.8 MB 946.2 kB/s eta 0:00:08\n",
      "     ----------------- --------------------- 5.6/12.8 MB 952.7 kB/s eta 0:00:08\n",
      "     ----------------- --------------------- 5.7/12.8 MB 952.8 kB/s eta 0:00:08\n",
      "     ----------------- --------------------- 5.7/12.8 MB 953.8 kB/s eta 0:00:08\n",
      "     ----------------- --------------------- 5.8/12.8 MB 959.3 kB/s eta 0:00:08\n",
      "     ----------------- --------------------- 5.8/12.8 MB 962.9 kB/s eta 0:00:08\n",
      "     ----------------- --------------------- 5.9/12.8 MB 963.0 kB/s eta 0:00:08\n",
      "     ------------------ -------------------- 6.0/12.8 MB 969.8 kB/s eta 0:00:08\n",
      "     ------------------ -------------------- 6.0/12.8 MB 969.9 kB/s eta 0:00:08\n",
      "     ------------------ -------------------- 6.1/12.8 MB 977.4 kB/s eta 0:00:07\n",
      "     ------------------ -------------------- 6.2/12.8 MB 973.4 kB/s eta 0:00:07\n",
      "     ------------------- ------------------- 6.2/12.8 MB 978.2 kB/s eta 0:00:07\n",
      "     ------------------- ------------------- 6.3/12.8 MB 981.5 kB/s eta 0:00:07\n",
      "     ------------------- ------------------- 6.3/12.8 MB 978.3 kB/s eta 0:00:07\n",
      "     ------------------- ------------------- 6.4/12.8 MB 987.1 kB/s eta 0:00:07\n",
      "     ------------------- ------------------- 6.5/12.8 MB 991.6 kB/s eta 0:00:07\n",
      "     -------------------- ------------------ 6.6/12.8 MB 997.0 kB/s eta 0:00:07\n",
      "     -------------------- ------------------- 6.7/12.8 MB 1.0 MB/s eta 0:00:07\n",
      "     -------------------- ------------------- 6.7/12.8 MB 1.0 MB/s eta 0:00:07\n",
      "     --------------------- ------------------ 6.8/12.8 MB 1.0 MB/s eta 0:00:06\n",
      "     --------------------- ------------------ 6.9/12.8 MB 1.0 MB/s eta 0:00:06\n",
      "     --------------------- ------------------ 6.9/12.8 MB 1.0 MB/s eta 0:00:06\n",
      "     --------------------- ------------------ 7.0/12.8 MB 1.0 MB/s eta 0:00:06\n",
      "     --------------------- ------------------ 7.0/12.8 MB 1.0 MB/s eta 0:00:06\n",
      "     --------------------- ------------------ 7.0/12.8 MB 1.0 MB/s eta 0:00:06\n",
      "     ---------------------- ----------------- 7.1/12.8 MB 1.0 MB/s eta 0:00:06\n",
      "     ---------------------- ----------------- 7.1/12.8 MB 1.0 MB/s eta 0:00:06\n",
      "     ---------------------- ----------------- 7.2/12.8 MB 1.0 MB/s eta 0:00:06\n",
      "     ---------------------- ----------------- 7.3/12.8 MB 1.0 MB/s eta 0:00:06\n",
      "     ----------------------- ---------------- 7.4/12.8 MB 1.0 MB/s eta 0:00:06\n",
      "     ----------------------- ---------------- 7.5/12.8 MB 1.0 MB/s eta 0:00:06\n",
      "     ----------------------- ---------------- 7.5/12.8 MB 1.0 MB/s eta 0:00:06\n",
      "     ----------------------- ---------------- 7.6/12.8 MB 1.0 MB/s eta 0:00:05\n",
      "     ----------------------- ---------------- 7.7/12.8 MB 1.0 MB/s eta 0:00:05\n",
      "     ------------------------ --------------- 7.7/12.8 MB 1.0 MB/s eta 0:00:05\n",
      "     ------------------------ --------------- 7.8/12.8 MB 1.0 MB/s eta 0:00:05\n",
      "     ------------------------ --------------- 7.8/12.8 MB 1.0 MB/s eta 0:00:05\n",
      "     ------------------------ --------------- 7.8/12.8 MB 1.0 MB/s eta 0:00:05\n",
      "     ------------------------ --------------- 7.9/12.8 MB 1.0 MB/s eta 0:00:05\n",
      "     ------------------------ --------------- 8.0/12.8 MB 1.0 MB/s eta 0:00:05\n",
      "     ------------------------- -------------- 8.0/12.8 MB 1.0 MB/s eta 0:00:05\n",
      "     ------------------------- -------------- 8.1/12.8 MB 1.0 MB/s eta 0:00:05\n",
      "     ------------------------- -------------- 8.2/12.8 MB 1.0 MB/s eta 0:00:05\n",
      "     ------------------------- -------------- 8.3/12.8 MB 1.1 MB/s eta 0:00:05\n",
      "     -------------------------- ------------- 8.4/12.8 MB 1.1 MB/s eta 0:00:05\n",
      "     -------------------------- ------------- 8.5/12.8 MB 1.1 MB/s eta 0:00:05\n",
      "     -------------------------- ------------- 8.6/12.8 MB 1.1 MB/s eta 0:00:04\n",
      "     --------------------------- ------------ 8.7/12.8 MB 1.1 MB/s eta 0:00:04\n",
      "     --------------------------- ------------ 8.7/12.8 MB 1.1 MB/s eta 0:00:04\n",
      "     --------------------------- ------------ 8.8/12.8 MB 1.1 MB/s eta 0:00:04\n",
      "     --------------------------- ------------ 8.8/12.8 MB 1.1 MB/s eta 0:00:04\n",
      "     --------------------------- ------------ 8.9/12.8 MB 1.1 MB/s eta 0:00:04\n",
      "     ---------------------------- ----------- 9.0/12.8 MB 1.1 MB/s eta 0:00:04\n",
      "     ---------------------------- ----------- 9.0/12.8 MB 1.1 MB/s eta 0:00:04\n",
      "     ---------------------------- ----------- 9.1/12.8 MB 1.1 MB/s eta 0:00:04\n",
      "     ---------------------------- ----------- 9.2/12.8 MB 1.1 MB/s eta 0:00:04\n",
      "     ---------------------------- ----------- 9.2/12.8 MB 1.1 MB/s eta 0:00:04\n",
      "     ----------------------------- ---------- 9.3/12.8 MB 1.1 MB/s eta 0:00:04\n",
      "     ----------------------------- ---------- 9.5/12.8 MB 1.1 MB/s eta 0:00:04\n",
      "     ----------------------------- ---------- 9.6/12.8 MB 1.1 MB/s eta 0:00:03\n",
      "     ------------------------------ --------- 9.7/12.8 MB 1.1 MB/s eta 0:00:03\n",
      "     ------------------------------ --------- 9.7/12.8 MB 1.1 MB/s eta 0:00:03\n",
      "     ------------------------------ --------- 9.8/12.8 MB 1.1 MB/s eta 0:00:03\n",
      "     ------------------------------ --------- 9.9/12.8 MB 1.1 MB/s eta 0:00:03\n",
      "     ------------------------------- -------- 10.0/12.8 MB 1.1 MB/s eta 0:00:03\n",
      "     ------------------------------- -------- 10.1/12.8 MB 1.1 MB/s eta 0:00:03\n",
      "     ------------------------------- -------- 10.1/12.8 MB 1.1 MB/s eta 0:00:03\n",
      "     ------------------------------- -------- 10.2/12.8 MB 1.1 MB/s eta 0:00:03\n",
      "     -------------------------------- ------- 10.3/12.8 MB 1.2 MB/s eta 0:00:03\n",
      "     -------------------------------- ------- 10.3/12.8 MB 1.2 MB/s eta 0:00:03\n",
      "     -------------------------------- ------- 10.5/12.8 MB 1.2 MB/s eta 0:00:02\n",
      "     -------------------------------- ------- 10.5/12.8 MB 1.2 MB/s eta 0:00:02\n",
      "     --------------------------------- ------ 10.6/12.8 MB 1.2 MB/s eta 0:00:02\n",
      "     --------------------------------- ------ 10.6/12.8 MB 1.2 MB/s eta 0:00:02\n",
      "     --------------------------------- ------ 10.8/12.8 MB 1.3 MB/s eta 0:00:02\n",
      "     ---------------------------------- ----- 10.9/12.8 MB 1.3 MB/s eta 0:00:02\n",
      "     ---------------------------------- ----- 11.0/12.8 MB 1.3 MB/s eta 0:00:02\n",
      "     ---------------------------------- ----- 11.1/12.8 MB 1.3 MB/s eta 0:00:02\n",
      "     ----------------------------------- ---- 11.2/12.8 MB 1.3 MB/s eta 0:00:02\n",
      "     ----------------------------------- ---- 11.3/12.8 MB 1.3 MB/s eta 0:00:02\n",
      "     ----------------------------------- ---- 11.4/12.8 MB 1.3 MB/s eta 0:00:02\n",
      "     ----------------------------------- ---- 11.4/12.8 MB 1.3 MB/s eta 0:00:02\n",
      "     ------------------------------------ --- 11.6/12.8 MB 1.3 MB/s eta 0:00:01\n",
      "     ------------------------------------ --- 11.6/12.8 MB 1.3 MB/s eta 0:00:01\n",
      "     ------------------------------------ --- 11.6/12.8 MB 1.3 MB/s eta 0:00:01\n",
      "     ------------------------------------ --- 11.7/12.8 MB 1.3 MB/s eta 0:00:01\n",
      "     ------------------------------------ --- 11.8/12.8 MB 1.4 MB/s eta 0:00:01\n",
      "     ------------------------------------- -- 11.9/12.8 MB 1.4 MB/s eta 0:00:01\n",
      "     ------------------------------------- -- 12.0/12.8 MB 1.4 MB/s eta 0:00:01\n",
      "     ------------------------------------- -- 12.0/12.8 MB 1.4 MB/s eta 0:00:01\n",
      "     ------------------------------------- -- 12.1/12.8 MB 1.4 MB/s eta 0:00:01\n",
      "     -------------------------------------- - 12.2/12.8 MB 1.4 MB/s eta 0:00:01\n",
      "     -------------------------------------- - 12.3/12.8 MB 1.4 MB/s eta 0:00:01\n",
      "     -------------------------------------- - 12.3/12.8 MB 1.4 MB/s eta 0:00:01\n",
      "     -------------------------------------- - 12.5/12.8 MB 1.4 MB/s eta 0:00:01\n",
      "     ---------------------------------------  12.5/12.8 MB 1.4 MB/s eta 0:00:01\n",
      "     ---------------------------------------  12.6/12.8 MB 1.4 MB/s eta 0:00:01\n",
      "     ---------------------------------------  12.6/12.8 MB 1.4 MB/s eta 0:00:01\n",
      "     ---------------------------------------  12.6/12.8 MB 1.4 MB/s eta 0:00:01\n",
      "     ---------------------------------------  12.7/12.8 MB 1.4 MB/s eta 0:00:01\n",
      "     ---------------------------------------  12.7/12.8 MB 1.4 MB/s eta 0:00:01\n",
      "     ---------------------------------------  12.8/12.8 MB 1.4 MB/s eta 0:00:01\n",
      "     ---------------------------------------- 12.8/12.8 MB 1.4 MB/s eta 0:00:00\n",
      "Requirement already satisfied: spacy<3.8.0,>=3.7.2 in c:\\users\\adhic\\anaconda3\\lib\\site-packages (from en-core-web-sm==3.7.1) (3.7.5)\n",
      "Requirement already satisfied: spacy-legacy<3.1.0,>=3.0.11 in c:\\users\\adhic\\anaconda3\\lib\\site-packages (from spacy<3.8.0,>=3.7.2->en-core-web-sm==3.7.1) (3.0.12)\n",
      "Requirement already satisfied: spacy-loggers<2.0.0,>=1.0.0 in c:\\users\\adhic\\anaconda3\\lib\\site-packages (from spacy<3.8.0,>=3.7.2->en-core-web-sm==3.7.1) (1.0.5)\n",
      "Requirement already satisfied: murmurhash<1.1.0,>=0.28.0 in c:\\users\\adhic\\anaconda3\\lib\\site-packages (from spacy<3.8.0,>=3.7.2->en-core-web-sm==3.7.1) (1.0.10)\n",
      "Requirement already satisfied: cymem<2.1.0,>=2.0.2 in c:\\users\\adhic\\anaconda3\\lib\\site-packages (from spacy<3.8.0,>=3.7.2->en-core-web-sm==3.7.1) (2.0.8)\n",
      "Requirement already satisfied: preshed<3.1.0,>=3.0.2 in c:\\users\\adhic\\anaconda3\\lib\\site-packages (from spacy<3.8.0,>=3.7.2->en-core-web-sm==3.7.1) (3.0.9)\n",
      "Requirement already satisfied: thinc<8.3.0,>=8.2.2 in c:\\users\\adhic\\anaconda3\\lib\\site-packages (from spacy<3.8.0,>=3.7.2->en-core-web-sm==3.7.1) (8.2.5)\n",
      "Requirement already satisfied: wasabi<1.2.0,>=0.9.1 in c:\\users\\adhic\\anaconda3\\lib\\site-packages (from spacy<3.8.0,>=3.7.2->en-core-web-sm==3.7.1) (1.1.3)\n",
      "Requirement already satisfied: srsly<3.0.0,>=2.4.3 in c:\\users\\adhic\\anaconda3\\lib\\site-packages (from spacy<3.8.0,>=3.7.2->en-core-web-sm==3.7.1) (2.4.8)\n",
      "Requirement already satisfied: catalogue<2.1.0,>=2.0.6 in c:\\users\\adhic\\anaconda3\\lib\\site-packages (from spacy<3.8.0,>=3.7.2->en-core-web-sm==3.7.1) (2.0.10)\n",
      "Requirement already satisfied: weasel<0.5.0,>=0.1.0 in c:\\users\\adhic\\anaconda3\\lib\\site-packages (from spacy<3.8.0,>=3.7.2->en-core-web-sm==3.7.1) (0.4.1)\n",
      "Requirement already satisfied: typer<1.0.0,>=0.3.0 in c:\\users\\adhic\\anaconda3\\lib\\site-packages (from spacy<3.8.0,>=3.7.2->en-core-web-sm==3.7.1) (0.12.3)\n",
      "Requirement already satisfied: tqdm<5.0.0,>=4.38.0 in c:\\users\\adhic\\anaconda3\\lib\\site-packages (from spacy<3.8.0,>=3.7.2->en-core-web-sm==3.7.1) (4.65.0)\n",
      "Requirement already satisfied: requests<3.0.0,>=2.13.0 in c:\\users\\adhic\\anaconda3\\lib\\site-packages (from spacy<3.8.0,>=3.7.2->en-core-web-sm==3.7.1) (2.31.0)\n",
      "Requirement already satisfied: pydantic!=1.8,!=1.8.1,<3.0.0,>=1.7.4 in c:\\users\\adhic\\anaconda3\\lib\\site-packages (from spacy<3.8.0,>=3.7.2->en-core-web-sm==3.7.1) (1.10.12)\n",
      "Requirement already satisfied: jinja2 in c:\\users\\adhic\\anaconda3\\lib\\site-packages (from spacy<3.8.0,>=3.7.2->en-core-web-sm==3.7.1) (3.1.3)\n",
      "Requirement already satisfied: setuptools in c:\\users\\adhic\\anaconda3\\lib\\site-packages (from spacy<3.8.0,>=3.7.2->en-core-web-sm==3.7.1) (68.2.2)\n",
      "Requirement already satisfied: packaging>=20.0 in c:\\users\\adhic\\anaconda3\\lib\\site-packages (from spacy<3.8.0,>=3.7.2->en-core-web-sm==3.7.1) (23.1)\n",
      "Requirement already satisfied: langcodes<4.0.0,>=3.2.0 in c:\\users\\adhic\\anaconda3\\lib\\site-packages (from spacy<3.8.0,>=3.7.2->en-core-web-sm==3.7.1) (3.4.0)\n",
      "Requirement already satisfied: numpy>=1.19.0 in c:\\users\\adhic\\anaconda3\\lib\\site-packages (from spacy<3.8.0,>=3.7.2->en-core-web-sm==3.7.1) (1.26.4)\n",
      "Requirement already satisfied: language-data>=1.2 in c:\\users\\adhic\\anaconda3\\lib\\site-packages (from langcodes<4.0.0,>=3.2.0->spacy<3.8.0,>=3.7.2->en-core-web-sm==3.7.1) (1.2.0)\n",
      "Requirement already satisfied: typing-extensions>=4.2.0 in c:\\users\\adhic\\anaconda3\\lib\\site-packages (from pydantic!=1.8,!=1.8.1,<3.0.0,>=1.7.4->spacy<3.8.0,>=3.7.2->en-core-web-sm==3.7.1) (4.9.0)\n",
      "Requirement already satisfied: charset-normalizer<4,>=2 in c:\\users\\adhic\\anaconda3\\lib\\site-packages (from requests<3.0.0,>=2.13.0->spacy<3.8.0,>=3.7.2->en-core-web-sm==3.7.1) (2.0.4)\n",
      "Requirement already satisfied: idna<4,>=2.5 in c:\\users\\adhic\\anaconda3\\lib\\site-packages (from requests<3.0.0,>=2.13.0->spacy<3.8.0,>=3.7.2->en-core-web-sm==3.7.1) (3.4)\n",
      "Requirement already satisfied: urllib3<3,>=1.21.1 in c:\\users\\adhic\\anaconda3\\lib\\site-packages (from requests<3.0.0,>=2.13.0->spacy<3.8.0,>=3.7.2->en-core-web-sm==3.7.1) (2.0.7)\n",
      "Requirement already satisfied: certifi>=2017.4.17 in c:\\users\\adhic\\anaconda3\\lib\\site-packages (from requests<3.0.0,>=2.13.0->spacy<3.8.0,>=3.7.2->en-core-web-sm==3.7.1) (2024.2.2)\n",
      "Requirement already satisfied: blis<0.8.0,>=0.7.8 in c:\\users\\adhic\\anaconda3\\lib\\site-packages (from thinc<8.3.0,>=8.2.2->spacy<3.8.0,>=3.7.2->en-core-web-sm==3.7.1) (0.7.11)\n",
      "Requirement already satisfied: confection<1.0.0,>=0.0.1 in c:\\users\\adhic\\anaconda3\\lib\\site-packages (from thinc<8.3.0,>=8.2.2->spacy<3.8.0,>=3.7.2->en-core-web-sm==3.7.1) (0.1.5)\n",
      "Requirement already satisfied: colorama in c:\\users\\adhic\\anaconda3\\lib\\site-packages (from tqdm<5.0.0,>=4.38.0->spacy<3.8.0,>=3.7.2->en-core-web-sm==3.7.1) (0.4.6)\n",
      "Requirement already satisfied: click>=8.0.0 in c:\\users\\adhic\\anaconda3\\lib\\site-packages (from typer<1.0.0,>=0.3.0->spacy<3.8.0,>=3.7.2->en-core-web-sm==3.7.1) (8.1.7)\n",
      "Requirement already satisfied: shellingham>=1.3.0 in c:\\users\\adhic\\anaconda3\\lib\\site-packages (from typer<1.0.0,>=0.3.0->spacy<3.8.0,>=3.7.2->en-core-web-sm==3.7.1) (1.5.4)\n",
      "Requirement already satisfied: rich>=10.11.0 in c:\\users\\adhic\\anaconda3\\lib\\site-packages (from typer<1.0.0,>=0.3.0->spacy<3.8.0,>=3.7.2->en-core-web-sm==3.7.1) (13.3.5)\n",
      "Requirement already satisfied: cloudpathlib<1.0.0,>=0.7.0 in c:\\users\\adhic\\anaconda3\\lib\\site-packages (from weasel<0.5.0,>=0.1.0->spacy<3.8.0,>=3.7.2->en-core-web-sm==3.7.1) (0.18.1)\n",
      "Requirement already satisfied: smart-open<8.0.0,>=5.2.1 in c:\\users\\adhic\\anaconda3\\lib\\site-packages (from weasel<0.5.0,>=0.1.0->spacy<3.8.0,>=3.7.2->en-core-web-sm==3.7.1) (5.2.1)\n",
      "Requirement already satisfied: MarkupSafe>=2.0 in c:\\users\\adhic\\anaconda3\\lib\\site-packages (from jinja2->spacy<3.8.0,>=3.7.2->en-core-web-sm==3.7.1) (2.1.3)\n",
      "Requirement already satisfied: marisa-trie>=0.7.7 in c:\\users\\adhic\\anaconda3\\lib\\site-packages (from language-data>=1.2->langcodes<4.0.0,>=3.2.0->spacy<3.8.0,>=3.7.2->en-core-web-sm==3.7.1) (1.2.0)\n",
      "Requirement already satisfied: markdown-it-py<3.0.0,>=2.2.0 in c:\\users\\adhic\\anaconda3\\lib\\site-packages (from rich>=10.11.0->typer<1.0.0,>=0.3.0->spacy<3.8.0,>=3.7.2->en-core-web-sm==3.7.1) (2.2.0)\n",
      "Requirement already satisfied: pygments<3.0.0,>=2.13.0 in c:\\users\\adhic\\anaconda3\\lib\\site-packages (from rich>=10.11.0->typer<1.0.0,>=0.3.0->spacy<3.8.0,>=3.7.2->en-core-web-sm==3.7.1) (2.15.1)\n",
      "Requirement already satisfied: mdurl~=0.1 in c:\\users\\adhic\\anaconda3\\lib\\site-packages (from markdown-it-py<3.0.0,>=2.2.0->rich>=10.11.0->typer<1.0.0,>=0.3.0->spacy<3.8.0,>=3.7.2->en-core-web-sm==3.7.1) (0.1.0)\n",
      "\u001b[38;5;2m[+] Download and installation successful\u001b[0m\n",
      "You can now load the package via spacy.load('en_core_web_sm')\n"
     ]
    }
   ],
   "source": [
    "!python -m spacy download en_core_web_sm"
   ]
  },
  {
   "cell_type": "code",
   "execution_count": 6,
   "id": "18242f7c-ba9c-411a-a66f-d97b98983a8e",
   "metadata": {},
   "outputs": [
    {
     "data": {
      "text/plain": [
       "['tok2vec', 'tagger', 'parser', 'attribute_ruler', 'lemmatizer', 'ner']"
      ]
     },
     "execution_count": 6,
     "metadata": {},
     "output_type": "execute_result"
    }
   ],
   "source": [
    "nlp = spacy.load(\"en_core_web_sm\")\n",
    "nlp.pipe_names"
   ]
  },
  {
   "cell_type": "code",
   "execution_count": 7,
   "id": "dfc899be-ffeb-475e-92c7-410821b703ec",
   "metadata": {},
   "outputs": [
    {
     "data": {
      "text/plain": [
       "[('tok2vec', <spacy.pipeline.tok2vec.Tok2Vec at 0x264f18da450>),\n",
       " ('tagger', <spacy.pipeline.tagger.Tagger at 0x264e9fc9430>),\n",
       " ('parser', <spacy.pipeline.dep_parser.DependencyParser at 0x264f19fa880>),\n",
       " ('attribute_ruler',\n",
       "  <spacy.pipeline.attributeruler.AttributeRuler at 0x264f2d31410>),\n",
       " ('lemmatizer', <spacy.lang.en.lemmatizer.EnglishLemmatizer at 0x264f2d1b7d0>),\n",
       " ('ner', <spacy.pipeline.ner.EntityRecognizer at 0x264e9d5d380>)]"
      ]
     },
     "execution_count": 7,
     "metadata": {},
     "output_type": "execute_result"
    }
   ],
   "source": [
    "nlp.pipeline"
   ]
  },
  {
   "cell_type": "code",
   "execution_count": 8,
   "id": "56d11c81-4a38-4c90-8189-8a3f0777736d",
   "metadata": {},
   "outputs": [
    {
     "name": "stdout",
     "output_type": "stream",
     "text": [
      "Captain  |  proper noun  |  Captain\n",
      "america  |  proper noun  |  america\n",
      "ate  |  verb  |  eat\n",
      "100  |  numeral  |  100\n",
      "$  |  numeral  |  $\n",
      "of  |  adposition  |  of\n",
      "samosa  |  proper noun  |  samosa\n",
      ".  |  punctuation  |  .\n",
      "Then  |  adverb  |  then\n",
      "he  |  pronoun  |  he\n",
      "said  |  verb  |  say\n",
      "I  |  pronoun  |  I\n",
      "can  |  auxiliary  |  can\n",
      "do  |  verb  |  do\n",
      "this  |  pronoun  |  this\n",
      "all  |  determiner  |  all\n",
      "day  |  noun  |  day\n",
      ".  |  punctuation  |  .\n"
     ]
    }
   ],
   "source": [
    "\n",
    "doc = nlp(\"Captain america ate 100$ of samosa. Then he said I can do this all day.\")\n",
    "\n",
    "for token in doc:\n",
    "    print(token, \" | \", spacy.explain(token.pos_), \" | \", token.lemma_)"
   ]
  },
  {
   "cell_type": "markdown",
   "id": "1afe31d9-7e8f-421a-b972-aaacd152f4c7",
   "metadata": {},
   "source": [
    "**Named Entity Recognition**"
   ]
  },
  {
   "cell_type": "code",
   "execution_count": 10,
   "id": "cee77710-436f-4a13-a2da-6eefbfab9f0f",
   "metadata": {},
   "outputs": [
    {
     "name": "stdout",
     "output_type": "stream",
     "text": [
      "Tesla Inc  |  ORG  |  Companies, agencies, institutions, etc.\n",
      "$45 billion  |  MONEY  |  Monetary values, including unit\n"
     ]
    }
   ],
   "source": [
    "doc = nlp(\"Tesla Inc is going to acquire twitter for $45 billion\")\n",
    "for ent in doc.ents:\n",
    "    print(ent.text, \" | \",  ent.label_, \" | \", spacy.explain(ent.label_))"
   ]
  },
  {
   "cell_type": "code",
   "execution_count": 11,
   "id": "46dff959-604e-4dc1-af25-10f3558803b9",
   "metadata": {},
   "outputs": [
    {
     "data": {
      "text/html": [
       "<span class=\"tex2jax_ignore\"><div class=\"entities\" style=\"line-height: 2.5; direction: ltr\">\n",
       "<mark class=\"entity\" style=\"background: #7aecec; padding: 0.45em 0.6em; margin: 0 0.25em; line-height: 1; border-radius: 0.35em;\">\n",
       "    Tesla Inc\n",
       "    <span style=\"font-size: 0.8em; font-weight: bold; line-height: 1; border-radius: 0.35em; vertical-align: middle; margin-left: 0.5rem\">ORG</span>\n",
       "</mark>\n",
       " is going to acquire twitter for \n",
       "<mark class=\"entity\" style=\"background: #e4e7d2; padding: 0.45em 0.6em; margin: 0 0.25em; line-height: 1; border-radius: 0.35em;\">\n",
       "    $45 billion\n",
       "    <span style=\"font-size: 0.8em; font-weight: bold; line-height: 1; border-radius: 0.35em; vertical-align: middle; margin-left: 0.5rem\">MONEY</span>\n",
       "</mark>\n",
       "</div></span>"
      ],
      "text/plain": [
       "<IPython.core.display.HTML object>"
      ]
     },
     "metadata": {},
     "output_type": "display_data"
    }
   ],
   "source": [
    "from spacy import displacy\n",
    "\n",
    "displacy.render(doc, style=\"ent\")"
   ]
  },
  {
   "cell_type": "markdown",
   "id": "1e67b790-2345-458b-b234-2288e6cfc0ab",
   "metadata": {},
   "source": [
    "**Adding a Component to a blank pipeline**"
   ]
  },
  {
   "cell_type": "code",
   "execution_count": 13,
   "id": "5ba87c1d-e2b1-4419-b036-527e2f192326",
   "metadata": {},
   "outputs": [
    {
     "data": {
      "text/plain": [
       "['ner']"
      ]
     },
     "execution_count": 13,
     "metadata": {},
     "output_type": "execute_result"
    }
   ],
   "source": [
    "source_nlp = spacy.load(\"en_core_web_sm\")\n",
    "\n",
    "nlp = spacy.blank(\"en\")\n",
    "nlp.add_pipe(\"ner\", source = source_nlp)\n",
    "nlp.pipe_names"
   ]
  },
  {
   "cell_type": "code",
   "execution_count": 15,
   "id": "67c0afa9-4fc9-4d3e-8257-2eacdbef1358",
   "metadata": {},
   "outputs": [
    {
     "name": "stdout",
     "output_type": "stream",
     "text": [
      "Tesla Inc  |  ORG\n",
      "$45 billion  |  MONEY\n"
     ]
    }
   ],
   "source": [
    "doc = nlp(\"Tesla Inc is going to acquire twitter for $45 billion\")\n",
    "for ent in doc.ents:\n",
    "    print(ent.text, \" | \", ent.label_)"
   ]
  },
  {
   "cell_type": "code",
   "execution_count": null,
   "id": "c2553fa7-5f09-4a08-a11b-cdde1e5e3a0d",
   "metadata": {},
   "outputs": [],
   "source": []
  }
 ],
 "metadata": {
  "kernelspec": {
   "display_name": "Python 3 (ipykernel)",
   "language": "python",
   "name": "python3"
  },
  "language_info": {
   "codemirror_mode": {
    "name": "ipython",
    "version": 3
   },
   "file_extension": ".py",
   "mimetype": "text/x-python",
   "name": "python",
   "nbconvert_exporter": "python",
   "pygments_lexer": "ipython3",
   "version": "3.11.7"
  }
 },
 "nbformat": 4,
 "nbformat_minor": 5
}
